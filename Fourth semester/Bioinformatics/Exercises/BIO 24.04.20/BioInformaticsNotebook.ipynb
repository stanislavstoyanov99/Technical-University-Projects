{
  "nbformat": 4,
  "nbformat_minor": 0,
  "metadata": {
    "colab": {
      "name": "BioInformaticsNotebook.ipynb",
      "provenance": [],
      "collapsed_sections": []
    },
    "kernelspec": {
      "name": "python3",
      "display_name": "Python 3"
    }
  },
  "cells": [
    {
      "cell_type": "code",
      "metadata": {
        "id": "PvoGVtA3PRPI",
        "colab_type": "code",
        "outputId": "269027c2-f195-45ea-9245-44e7648c58d3",
        "colab": {
          "base_uri": "https://localhost:8080/",
          "height": 164
        }
      },
      "source": [
        "!pip install keras==2.3"
      ],
      "execution_count": 4,
      "outputs": [
        {
          "output_type": "stream",
          "text": [
            "Requirement already satisfied: keras==2.3 in /usr/local/lib/python3.6/dist-packages (2.3.0)\n",
            "Requirement already satisfied: numpy>=1.9.1 in /usr/local/lib/python3.6/dist-packages (from keras==2.3) (1.18.2)\n",
            "Requirement already satisfied: pyyaml in /usr/local/lib/python3.6/dist-packages (from keras==2.3) (3.13)\n",
            "Requirement already satisfied: h5py in /usr/local/lib/python3.6/dist-packages (from keras==2.3) (2.8.0)\n",
            "Requirement already satisfied: six>=1.9.0 in /usr/local/lib/python3.6/dist-packages (from keras==2.3) (1.12.0)\n",
            "Requirement already satisfied: keras-preprocessing>=1.0.5 in /usr/local/lib/python3.6/dist-packages (from keras==2.3) (1.1.0)\n",
            "Requirement already satisfied: scipy>=0.14 in /usr/local/lib/python3.6/dist-packages (from keras==2.3) (1.4.1)\n",
            "Requirement already satisfied: keras-applications>=1.0.6 in /usr/local/lib/python3.6/dist-packages (from keras==2.3) (1.0.8)\n"
          ],
          "name": "stdout"
        }
      ]
    },
    {
      "cell_type": "code",
      "metadata": {
        "id": "axRmosEKYJjj",
        "colab_type": "code",
        "outputId": "5d470ded-deae-44ee-d5c1-bb77263ae224",
        "colab": {
          "base_uri": "https://localhost:8080/",
          "height": 937
        }
      },
      "source": [
        "\n",
        "from glob import glob\n",
        "import fnmatch\n",
        "import cv2\n",
        "import numpy as np\n",
        "import matplotlib.pyplot as plt\n",
        "import keras\n",
        "from keras.models import load_model\n",
        "from sklearn import metrics\n",
        "\n",
        "model = load_model(\"best_model.h5\");\n",
        "imagePatches = glob(\"colabdataset/*.png\", recursive=True)\n",
        "\n",
        "patternZero = '*class0.png'\n",
        "patternOne = '*class1.png'\n",
        "classZero = fnmatch.filter(imagePatches, patternZero) #saves the file location of all images with file name class0\n",
        "classOne = fnmatch.filter(imagePatches, patternOne) #saves the file location of all images with file name class1\n",
        "\n",
        "def process_images(lowerIndex,upperIndex):\n",
        "    \"\"\"\n",
        "    Returns two arrays:\n",
        "        x is an array of resized images\n",
        "        y is an array of labels\n",
        "    \"\"\"\n",
        "    height = 50\n",
        "    width = 50\n",
        "    channels = 3\n",
        "    x = [] #list to store image data\n",
        "    y = [] #list to store corresponding class\n",
        "    for img in imagePatches[lowerIndex:upperIndex]:\n",
        "        full_size_image = cv2.imread(img)\n",
        "        image = (cv2.resize(full_size_image, (width,height), interpolation=cv2.INTER_CUBIC))\n",
        "        x.append(image)\n",
        "        if img in classZero:\n",
        "            y.append(0)\n",
        "        elif img in classOne:\n",
        "            y.append(1)\n",
        "        else:\n",
        "            return\n",
        "    return x,y\n",
        "\n",
        "X, Y = process_images(0,60000)\n",
        "X = np.array(X)\n",
        "X = X.astype(np.float32) #Casting the array to single precision takes half as much space\n",
        "\n",
        "\n",
        "\n",
        "X /= 255.\n",
        "\n",
        "X_test = X\n",
        "y_test = Y\n",
        "\n",
        "\n",
        "import keras\n",
        "from keras.utils import to_categorical\n",
        "\n",
        "y_test = to_categorical(y_test)\n",
        "\n",
        "\n",
        "\n",
        "X_testShape = X_test.shape[1]*X_test.shape[2]*X_test.shape[3]\n",
        "X_testFlat = X_test.reshape(X_test.shape[0], X_testShape)\n",
        "\n",
        "\n",
        "from imblearn.under_sampling import RandomUnderSampler\n",
        "\n",
        "random_under_sampler = RandomUnderSampler()\n",
        "X_testRus, Y_testRus = random_under_sampler.fit_sample(X_testFlat, y_test)\n",
        "# One-hot-encoding\n",
        "Y_testRusHot = to_categorical(Y_testRus, num_classes = 2)\n",
        "\n",
        "for i in range(len(X_testRus)):\n",
        "    height, width, channels = 50,50,3\n",
        "    X_testRusReshaped = X_testRus.reshape(len(X_testRus),height,width,channels)\n",
        "\n",
        "y_pred_one_hot = model.predict(X_testRusReshaped)\n",
        "y_pred_labels = np.argmax(y_pred_one_hot, axis = 1)\n",
        "\n",
        "print(\"*\" * 50)\n",
        "print(\"CNN output:\")\n",
        "print(y_pred_one_hot)\n",
        "print(\"labels\")\n",
        "print(y_pred_labels)\n",
        "\n",
        "\n",
        "y_true_labels = np.argmax(Y_testRusHot,axis=1)\n",
        "\n",
        "confusion_matrix = metrics.confusion_matrix(y_true=y_true_labels, y_pred=y_pred_labels)\n",
        "print(\"Confusion matrix:\")\n",
        "print(confusion_matrix)\n",
        "\n",
        "print(\"*\" * 50)\n",
        "\n",
        "\n"
      ],
      "execution_count": 6,
      "outputs": [
        {
          "output_type": "stream",
          "text": [
            "/usr/local/lib/python3.6/dist-packages/sklearn/utils/deprecation.py:87: FutureWarning: Function safe_indexing is deprecated; safe_indexing is deprecated in version 0.22 and will be removed in version 0.24.\n",
            "  warnings.warn(msg, category=FutureWarning)\n"
          ],
          "name": "stderr"
        },
        {
          "output_type": "stream",
          "text": [
            "**************************************************\n",
            "CNN output:\n",
            "[[0.7433257  0.2719823 ]\n",
            " [0.93303645 0.07347032]\n",
            " [0.7173332  0.29808977]\n",
            " [0.6107547  0.40878075]\n",
            " [0.70336396 0.31988162]\n",
            " [0.8205132  0.19378129]\n",
            " [0.7245954  0.29508603]\n",
            " [0.6455098  0.36596823]\n",
            " [0.6938838  0.3228606 ]\n",
            " [0.79639345 0.22120452]\n",
            " [0.93859535 0.0652574 ]\n",
            " [0.7859422  0.2270799 ]\n",
            " [0.63076866 0.389687  ]\n",
            " [0.77505434 0.24012452]\n",
            " [0.5283047  0.49198303]\n",
            " [0.9387367  0.06556961]\n",
            " [0.6466749  0.37310454]\n",
            " [0.93276954 0.07274228]\n",
            " [0.72528046 0.29301825]\n",
            " [0.7719424  0.24601752]\n",
            " [0.09924263 0.89252627]\n",
            " [0.10241845 0.8907043 ]\n",
            " [0.06738287 0.91922235]\n",
            " [0.11219436 0.8872712 ]\n",
            " [0.10687169 0.8906965 ]\n",
            " [0.09159958 0.8962727 ]\n",
            " [0.07583943 0.9128263 ]\n",
            " [0.07021356 0.91769195]\n",
            " [0.07751554 0.9121504 ]\n",
            " [0.0984998  0.89548564]\n",
            " [0.09648016 0.8971915 ]\n",
            " [0.0829632  0.9069327 ]\n",
            " [0.19284606 0.81057096]\n",
            " [0.07254156 0.91580045]\n",
            " [0.09387982 0.8975317 ]\n",
            " [0.11096188 0.8859676 ]\n",
            " [0.12025876 0.87951034]\n",
            " [0.13129865 0.86761916]]\n",
            "labels\n",
            "[0 0 0 0 0 0 0 0 0 0 0 0 0 0 0 0 0 0 0 0 1 1 1 1 1 1 1 1 1 1 1 1 1 1 1 1 1\n",
            " 1]\n",
            "Confusion matrix:\n",
            "[[19  0]\n",
            " [ 1 18]]\n",
            "**************************************************\n"
          ],
          "name": "stdout"
        }
      ]
    },
    {
      "cell_type": "code",
      "metadata": {
        "id": "sIHU8IsEarjC",
        "colab_type": "code",
        "colab": {}
      },
      "source": [
        ""
      ],
      "execution_count": 0,
      "outputs": []
    },
    {
      "cell_type": "code",
      "metadata": {
        "colab_type": "code",
        "id": "qJOMiF6vQEqG",
        "colab": {}
      },
      "source": [
        "!pip install keras==2.3"
      ],
      "execution_count": 0,
      "outputs": []
    },
    {
      "cell_type": "code",
      "metadata": {
        "id": "vcUINd_yJynS",
        "colab_type": "code",
        "colab": {}
      },
      "source": [
        "!pip install keras==2.3"
      ],
      "execution_count": 0,
      "outputs": []
    },
    {
      "cell_type": "code",
      "metadata": {
        "id": "Vu2bOpehZb7N",
        "colab_type": "code",
        "colab": {}
      },
      "source": [
        ""
      ],
      "execution_count": 0,
      "outputs": []
    }
  ]
}